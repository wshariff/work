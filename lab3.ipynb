{
 "cells": [
  {
   "cell_type": "markdown",
   "metadata": {},
   "source": [
    "# Lab 1 notebook\n",
    "\n",
    "We have prepared some example functions for you to practice with for Question 1.\n",
    "You can use these as examples to answer the rest of the questions. \n",
    "\n",
    "You can answer the rest of the questions by writing code in new cells at the end of this notebook."
   ]
  },
  {
   "cell_type": "code",
   "execution_count": 2,
   "metadata": {},
   "outputs": [],
   "source": [
    "#q1 \n",
    "#1. Θ(logn)\n",
    "#2.  Θ(1)\n",
    "#3.  Θ(n)\n",
    "#4.  Θ(2^n)\n",
    "\n",
    "#n^6"
   ]
  },
  {
   "cell_type": "code",
   "execution_count": 3,
   "metadata": {},
   "outputs": [
    {
     "name": "stdout",
     "output_type": "stream",
     "text": [
      "[10, 6, 5, 6, 6]\n"
     ]
    }
   ],
   "source": [
    "#q2\n",
    "import random\n",
    "\n",
    "def randomIntArray(s,n):\n",
    "    randomArray=[]\n",
    "    for i in range(s):\n",
    "        randomArray.append(random.randint(0,n))\n",
    "    return randomArray\n",
    "\n",
    "print(randomIntArray(5,11))"
   ]
  },
  {
   "cell_type": "code",
   "execution_count": 4,
   "metadata": {},
   "outputs": [
    {
     "name": "stdout",
     "output_type": "stream",
     "text": [
      "0.0019969940185546875\n"
     ]
    }
   ],
   "source": [
    "#q3\n",
    "import random\n",
    "import time\n",
    "\n",
    "def randomIntArray(s,n):\n",
    "    randomArray=[]\n",
    "    for i in range(s):\n",
    "        randomArray.append(random.randint(0,n))\n",
    "    return randomArray\n",
    "\n",
    "def sortTime(A):\n",
    "    t = time.time()\n",
    "    for i in range(1,len(A)):\n",
    "        insert(A[i],A,i)\n",
    "    return(time.time()-t)\n",
    "\n",
    "def insert(v, A, hi):\n",
    "    for i in range(hi-1,-1,-1):\n",
    "        if v >= A[i]:\n",
    "            A[i+1] = v\n",
    "            return\n",
    "        A[i+1] = A[i]\n",
    "    A[0] = v\n",
    "    \n",
    "    \n",
    "print(sortTime(randomIntArray(100, 100)))    "
   ]
  },
  {
   "cell_type": "code",
   "execution_count": 5,
   "metadata": {},
   "outputs": [
    {
     "name": "stdout",
     "output_type": "stream",
     "text": [
      "All three inputs have equal values\n",
      "1\n",
      "None\n"
     ]
    }
   ],
   "source": [
    "def question2(x, y, z):\n",
    "    if x==y:\n",
    "        if x==z:\n",
    "            print(\"All three inputs have equal values\")\n",
    "            print(1)\n",
    "        else: \n",
    "            print(\"x and y have equal values\")\n",
    "            print(2)\n",
    "    elif x==z:\n",
    "        print(\"x and z have equal values\")\n",
    "        print(3)\n",
    "    elif y==z:\n",
    "        print(\"y and z have equal values\")\n",
    "        print(4)\n",
    "    else: \n",
    "        print(\"All the three inputs have different values\")\n",
    "        print(5)\n",
    "\n",
    "print(question2(1,1,1))"
   ]
  },
  {
   "cell_type": "code",
   "execution_count": null,
   "metadata": {},
   "outputs": [],
   "source": [
    "def question3():\n",
    "    x= input(\"What is x: \")\n",
    "    y= input(\"What is y: \")\n",
    "    z= input(\"What is z: \")\n",
    "\n",
    "    if x==y:\n",
    "        if x==z:\n",
    "            print(\"All three inputs have equal values\")\n",
    "            print(1)\n",
    "        else: \n",
    "            print(\"x and y have equal values\")\n",
    "            print(2)\n",
    "    elif x==z:\n",
    "        print(\"x and z have equal values\")\n",
    "        print(3)\n",
    "    elif y==z:\n",
    "        print(\"y and z have equal values\")\n",
    "        print(4)\n",
    "    else: \n",
    "        print(\"All the three inputs have different values\")\n",
    "        print(5)\n",
    "\n",
    "print(question3())"
   ]
  },
  {
   "cell_type": "code",
   "execution_count": null,
   "metadata": {},
   "outputs": [],
   "source": [
    "def question4(x, y, z):\n",
    "    if len(x)==len(y):\n",
    "        if len(x)==len(z):\n",
    "            print(\"All three inputs have equal lengths\")\n",
    "            print(1)\n",
    "        else: \n",
    "            print(\"x and y have equal lengths\")\n",
    "            print(2)\n",
    "    elif len(x)==len(z):\n",
    "        print(\"x and z have equal lengths\")\n",
    "        print(3)\n",
    "    elif len(y)==len(z):\n",
    "        print(\"y and z have equal lengths\")\n",
    "        print(4)\n",
    "    else: \n",
    "        print(\"All the three inputs have different lengths\")\n",
    "        print(5)\n",
    "\n",
    "print(question4([1,1,1], [3,1,4], [10,9,6,3]))"
   ]
  },
  {
   "cell_type": "code",
   "execution_count": null,
   "metadata": {
    "scrolled": true
   },
   "outputs": [],
   "source": [
    "def question5(total):\n",
    "    if total[0]==total[1]:\n",
    "        if total[0]==total[2]:\n",
    "            print(\"All three inputs have equal sums\")\n",
    "            print(1)\n",
    "        else: \n",
    "            print(\"x and y have equal sums\")\n",
    "            print(2)\n",
    "    elif total[0]==total[2]:\n",
    "        print(\"x and z have equal sums\")\n",
    "        print(3)\n",
    "    elif total[1]==total[2]:\n",
    "        print(\"y and z have equal sums\")\n",
    "        print(4)\n",
    "    else: \n",
    "        print(\"All the three inputs have different sums\")\n",
    "        print(5)\n",
    "\n",
    "def calcTotal(x, y, z):\n",
    "    totalx=0\n",
    "    for i in range (len(x)):\n",
    "        totalx+= x[i]\n",
    "        #print(totalx)\n",
    "        \n",
    "    totaly=0\n",
    "    for i in range (len(y)):\n",
    "        totaly+= y[i]\n",
    "        #print(totaly)\n",
    "        \n",
    "    totalz=0\n",
    "    for i in range (len(z)):\n",
    "        totalz+= z[i]\n",
    "        #print(totalz)\n",
    "    return totalx, totaly, totalz\n",
    "xyzTotal= calcTotal([1,1,1], [2,2,2], [5,1,0])\n",
    "question5(xyzTotal)"
   ]
  },
  {
   "cell_type": "code",
   "execution_count": null,
   "metadata": {},
   "outputs": [],
   "source": [
    "def question6(f, x, y, z):\n",
    "    if f(x)==f(y):\n",
    "        if f(x)==f(z):\n",
    "            print(\"Applying f to all three values gives the same result\")\n",
    "            print(1)\n",
    "        else: \n",
    "            print(\"Applying f to x and y gives the same result\")\n",
    "            print(2)\n",
    "    elif f(x)==f(z):\n",
    "        print(\"Applying f to x and z gives the same result\")\n",
    "        print(3)\n",
    "    elif f(y)==f(z):\n",
    "        print(\"Applying f to y and z gives the same result\")\n",
    "        print(4)\n",
    "    else: \n",
    "        print(\"Applying f to each of the three values gives a different result\")\n",
    "        print(5)\n",
    "        \n",
    "def addFive():\n",
    "    num=0\n",
    "    num+=5\n",
    "    return num\n",
    "\n",
    "calcFive = addFive()\n",
    "print(calcFive)\n",
    "question6(calcFive, 1, 2, 3)\n"
   ]
  },
  {
   "cell_type": "code",
   "execution_count": null,
   "metadata": {},
   "outputs": [],
   "source": [
    "# hello with input\n",
    "def helloIn():\n",
    "    name = input(\"Give some input name: \") # if you run Python2 this might break, try \"raw_input\" instead of \"input\"\n",
    "    print(\"Hello \"+name+\"!\")\n",
    "    \n",
    "helloIn()"
   ]
  },
  {
   "cell_type": "code",
   "execution_count": null,
   "metadata": {},
   "outputs": [],
   "source": [
    "# example functions that use if-else\n",
    "\n",
    "# checks whether the input is zero\n",
    "def isZero(x):\n",
    "    if x == 0:\n",
    "        return True\n",
    "    else:\n",
    "        return False\n",
    "    \n",
    "print(isZero(42))\n",
    "print(isZero(0))\n",
    "print()\n",
    "\n",
    "# checks whether the input is odd\n",
    "def isOdd(x):\n",
    "    if x%2 == 0:\n",
    "        return False\n",
    "    else:\n",
    "        return True\n",
    "    \n",
    "print(isOdd(42))\n",
    "print(isOdd(43))"
   ]
  },
  {
   "cell_type": "code",
   "execution_count": null,
   "metadata": {},
   "outputs": [],
   "source": [
    "# example functions that use if-elif-else\n",
    "\n",
    "# \"elif\" is meant to be \"else if\"\n",
    "# the if-elif-else syntax is:\n",
    "# \n",
    "# if condition1:\n",
    "#     doSomething1\n",
    "# elif condition2:\n",
    "#     doSomething2\n",
    "# ...\n",
    "# else:\n",
    "#     doSomethingElse\n",
    "\n",
    "# checks whether the input is 0 or 1 or 2 or 3 and prints it\n",
    "def printVal(x):\n",
    "    if x == 0:\n",
    "        print(\"x is zero\")\n",
    "    elif x == 1: \n",
    "        print(\"x is one\")\n",
    "    elif x == 2: \n",
    "        print(\"x is two\")\n",
    "    elif x == 3: \n",
    "        print(\"x is three\")\n",
    "    else:\n",
    "        print(\"x is below zero or above three\")\n",
    "        \n",
    "printVal(1)\n",
    "printVal(42)\n",
    "print()\n",
    "\n",
    "# checks whether the input is a multiple of 2 or 3\n",
    "def checkMults(x):\n",
    "    if (x%2 == 0) & (x%3 == 0):\n",
    "        print(\"x is a multiple of 2 and 3\")\n",
    "    elif x%2 == 0: \n",
    "        print(\"x is a multiple of 2 only\")\n",
    "    elif x%3 == 0: \n",
    "        print(\"x is a multiple of 3 only\")\n",
    "    else:\n",
    "        print(\"x is not a multiple of two or three\")\n",
    "\n",
    "checkMults(1)\n",
    "checkMults(2)\n",
    "checkMults(42)"
   ]
  },
  {
   "cell_type": "code",
   "execution_count": null,
   "metadata": {},
   "outputs": [],
   "source": [
    "# example functions that use for loops\n",
    "\n",
    "# this function prints all numbers from 0 to x-1\n",
    "def printRange(x):\n",
    "    for i in range(x):\n",
    "        print(i)\n",
    "        \n",
    "printRange(5)\n",
    "print()\n",
    "\n",
    "# this function prints all numbers from 1 to x\n",
    "\n",
    "def printOtherRange(x):\n",
    "    for i in range(1,x+1):\n",
    "        print(i)\n",
    "        \n",
    "printOtherRange(5)"
   ]
  },
  {
   "cell_type": "code",
   "execution_count": null,
   "metadata": {},
   "outputs": [],
   "source": [
    "def question2(x,y,z):\n",
    "# you need to fill this in..."
   ]
  }
 ],
 "metadata": {
  "kernelspec": {
   "display_name": "Python 3",
   "language": "python",
   "name": "python3"
  },
  "language_info": {
   "codemirror_mode": {
    "name": "ipython",
    "version": 3
   },
   "file_extension": ".py",
   "mimetype": "text/x-python",
   "name": "python",
   "nbconvert_exporter": "python",
   "pygments_lexer": "ipython3",
   "version": "3.8.3"
  }
 },
 "nbformat": 4,
 "nbformat_minor": 2
}
