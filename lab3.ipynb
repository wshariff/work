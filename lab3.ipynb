{
 "cells": [
  {
   "cell_type": "markdown",
   "metadata": {},
   "source": [
    "# Lab 3 notebook\n"
   ]
  },
  {
   "cell_type": "code",
   "execution_count": null,
   "metadata": {},
   "outputs": [],
   "source": [
    "#q1 \n",
    "#1. Θ(logn)\n",
    "#2.  Θ(1)\n",
    "#3.  Θ(n)\n",
    "#4.  Θ(2^n)\n",
    "\n",
    "#n^6"
   ]
  },
  {
   "cell_type": "code",
   "execution_count": null,
   "metadata": {},
   "outputs": [],
   "source": [
    "#q2\n",
    "import random\n",
    "\n",
    "def randomIntArray(s,n):\n",
    "    randomArray=[]\n",
    "    for i in range(s):\n",
    "        randomArray.append(random.randint(0,n))\n",
    "    return randomArray\n",
    "\n",
    "print(randomIntArray(5,11)) #[4, 2, 10, 7, 2]"
   ]
  },
  {
   "cell_type": "code",
   "execution_count": null,
   "metadata": {},
   "outputs": [],
   "source": [
    "#q3\n",
    "import time\n",
    "\n",
    "def sortTime(A):\n",
    "    t = time.time()\n",
    "    insertionSort(A)\n",
    "    t= time.time()-t\n",
    "    return t\n",
    "\n",
    "def insertionSort(A):\n",
    "    for i in range(1,len(A)):\n",
    "        insert(A[i],A,i)\n",
    "\n",
    "def insert(v, A, hi):\n",
    "    for i in range (hi-1,-1,-1):\n",
    "        if v >= A[i]:\n",
    "            A[i+1] = v\n",
    "            return\n",
    "        A[i+1] = A[i]\n",
    "    A[0] = v\n",
    "\n",
    "print(sortTime([10,5,6,9,1,2]))"
   ]
  },
  {
   "cell_type": "code",
   "execution_count": null,
   "metadata": {},
   "outputs": [],
   "source": [
    "#q4\n",
    "import random\n",
    "import time\n",
    "\n",
    "def randomIntArray(s,n):\n",
    "    randomArray=[]\n",
    "    for i in range(s):\n",
    "        randomArray.append(random.randint(0,n))\n",
    "    return randomArray\n",
    "\n",
    "def sortTime(A):\n",
    "    t = time.time()\n",
    "    for i in range(1,len(A)):\n",
    "        insert(A[i],A,i)\n",
    "    return(time.time()-t)\n",
    "\n",
    "def insert(v, A, hi):\n",
    "    for i in range(hi-1,-1,-1):\n",
    "        if v >= A[i]:\n",
    "            A[i+1] = v\n",
    "            return\n",
    "        A[i+1] = A[i]\n",
    "    A[0] = v\n",
    "    \n",
    "    \n",
    "print(sortTime(randomIntArray(10,10)))  \n",
    "print(sortTime(randomIntArray(100,10)))\n",
    "print(sortTime(randomIntArray(1000,10)))\n",
    "print(sortTime(randomIntArray(10000,10)))\n",
    "print(sortTime(randomIntArray(100000,10)))"
   ]
  },
  {
   "cell_type": "code",
   "execution_count": 9,
   "metadata": {},
   "outputs": [
    {
     "name": "stdout",
     "output_type": "stream",
     "text": [
      "1.1920928955078125e-05\n",
      "0.0003979206085205078\n",
      "0.03768420219421387\n",
      "3.316805839538574\n"
     ]
    }
   ],
   "source": [
    "#q5\n",
    "import random\n",
    "import time\n",
    "\n",
    "def randomIntArray(s,n):\n",
    "    randomArray=[]\n",
    "    for i in range(s):\n",
    "        randomArray.append(random.randint(0,n))\n",
    "    return randomArray\n",
    "\n",
    "def sortTimeUsing(sortf,A):\n",
    "    t = time.time()\n",
    "    sortf(A)\n",
    "    t = time.time()-t\n",
    "    return t\n",
    "\n",
    "def selectionSort(A):\n",
    "    for i in range(len(A)):\n",
    "        imin = findMin(i,A)\n",
    "        swap(i,imin,A)\n",
    "\n",
    "def findMin(i, A):\n",
    "    imin = i\n",
    "    for j in range(i+1,len(A)):\n",
    "        if A[j] < A[imin]: \n",
    "            imin = j\n",
    "    return imin\n",
    "\n",
    "def swap(i, j, A):\n",
    "    tmp = A[i]\n",
    "    A[i] = A[j]\n",
    "    A[j] = tmp\n",
    "\n",
    "print(sortTimeUsing(selectionSort,randomIntArray(10,10)))    \n",
    "print(sortTimeUsing(selectionSort,randomIntArray(100,10)))\n",
    "print(sortTimeUsing(selectionSort,randomIntArray(1000,10)))\n",
    "print(sortTimeUsing(selectionSort,randomIntArray(10000,10)))\n",
    "#print(sortTimeUsing(selectionSort,randomIntArray(100000,10)))"
   ]
  },
  {
   "cell_type": "code",
   "execution_count": 38,
   "metadata": {},
   "outputs": [
    {
     "name": "stdout",
     "output_type": "stream",
     "text": [
      "45\n"
     ]
    }
   ],
   "source": [
    "def compInsertionSort(A):\n",
    "    count=0\n",
    "    for i in range(1,len(A)):\n",
    "#         print(A[i])\n",
    "#         print(i)\n",
    "        count=insert(A[i],A,i,count)\n",
    "    return count\n",
    "\n",
    "def insert(v, A, hi,count):\n",
    "    for i in range(hi-1,-1,-1):\n",
    "#         print(A[i])\n",
    "        if v >= A[i]:\n",
    "            A[i+1] = v\n",
    "            count+=1\n",
    "            return count\n",
    "        A[i+1] = A[i]\n",
    "        count+=1\n",
    "    A[0] = v\n",
    "    return count\n",
    "\n",
    "print(numCompInsertionSort([10,9,8,7,6,5,4,3,2,1]))"
   ]
  },
  {
   "cell_type": "code",
   "execution_count": 78,
   "metadata": {},
   "outputs": [
    {
     "name": "stdout",
     "output_type": "stream",
     "text": [
      "([10, 9, 8, 7, 6, 5, 4, 3, 2, 1], [1, 2, 3, 4, 5, 6, 7, 8, 9, 10])\n"
     ]
    }
   ],
   "source": [
    "def insertionSort(A):\n",
    "    B=[A[0]]\n",
    "    for i in range(1,len(A)):\n",
    "        B=insert(A[i],B,i)\n",
    "    return(A,B)\n",
    "\n",
    "def insert(v, A, hi):\n",
    "    pos = len(A)\n",
    "    for i in range(hi-1, -1, -1):\n",
    "        if v >= A[i]:\n",
    "            A.insert(pos, v)\n",
    "            return A\n",
    "        pos -=1\n",
    "    A.insert(0, v)\n",
    "    return A\n",
    "\n",
    "print(insertionSort([10,9,8,7,6,5,4,3,2,1]))"
   ]
  },
  {
   "cell_type": "code",
   "execution_count": null,
   "metadata": {},
   "outputs": [],
   "source": []
  }
 ],
 "metadata": {
  "kernelspec": {
   "display_name": "Python 3",
   "language": "python",
   "name": "python3"
  },
  "language_info": {
   "codemirror_mode": {
    "name": "ipython",
    "version": 3
   },
   "file_extension": ".py",
   "mimetype": "text/x-python",
   "name": "python",
   "nbconvert_exporter": "python",
   "pygments_lexer": "ipython3",
   "version": "3.8.3"
  }
 },
 "nbformat": 4,
 "nbformat_minor": 2
}
